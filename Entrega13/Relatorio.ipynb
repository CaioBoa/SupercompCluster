{
 "cells": [
  {
   "cell_type": "markdown",
   "metadata": {},
   "source": [
    "*Schedules*\n",
    "* Default\n",
    "0.000159757 \n",
    "0.000156168\n",
    "0.000130339\n",
    "* Static\n",
    "2.902e-06 \n",
    "2.89548e-06\n",
    "2.7772e-06\n",
    "* Dynamic\n",
    "5.82635e-06\n",
    "5.57955e-06\n",
    "6.04987e-06\n",
    "* Guided\n",
    "4.18629e-06\n",
    "3.97861e-06\n",
    "4.10061e-06\n",
    "* Auto\n",
    "2.75206e-06\n",
    "2.67383e-06\n",
    "2.62167e-06\n",
    "\n",
    "O Scheduler Auto é o mais rápido, muito próximo do Static.\n",
    "Todos os Schedulers foram extremamento constantes entre as execuções.\n",
    "Os schedulers dynamic e guided apresentaram melhora considerável a partir de 4 threads, enquanto o static não apresentou melhora significativa."
   ]
  },
  {
   "cell_type": "markdown",
   "metadata": {},
   "source": [
    "*Calculo do PI*\n",
    "* parallel for\n",
    "4.31253199279308\n",
    "3.59306742530316\n",
    "4.31307072751224\n",
    "* tasks\n",
    "1.61867246869951\n",
    "1.61958438064903\n",
    "1.61873844265938\n",
    "\n",
    "O tasks foi consideravelmente mais eficiente que o parallel para todas as entradas.\n",
    "O número de tasks e valores de MIN_BLK utilizados não alteraram significativamente os resultados.\n",
    "Parallel teve maior variação com um valor maior de MIN_BLK, porém aumentando mais o mesmo valor o resultado se estabilizou novamente."
   ]
  },
  {
   "cell_type": "markdown",
   "metadata": {},
   "source": [
    "*Manipulação de Efeitos Colaterais no Vetor*\n",
    "* omp critical\n",
    "0.00124258\n",
    "0.0011095\n",
    "0.00107739\n",
    "* pré alocação\n",
    "8.63019e-05\n",
    "0.000146297\n",
    "0.000122734\n",
    "\n",
    "A abordagem com pré alocação de memória foi consideravelmente mais eficiente.\n",
    "A utilização do omp critical adiciona muito overhead e trava o acesso das outras threads a determinados pontos do código, atrasando a execução.\n",
    "A ordem dos dados foi respeitada em ambas as abordagens."
   ]
  },
  {
   "cell_type": "markdown",
   "metadata": {},
   "source": [
    "**Conclusão**\n",
    "\n",
    "A partir dos testes realizados podemos concluir que a utilização de OpenMP pode ser muito benéfica para a eficiência de um código se aplicada corretamente, uma vez que diversas técnicas aplicadas para situações distintas podem interferir muito nos resultados.\n",
    "As soluções que aparentaram melhores resultados foram o scheduler Auto, utilização de tasks e pré alocação de memória."
   ]
  }
 ],
 "metadata": {
  "language_info": {
   "name": "python"
  }
 },
 "nbformat": 4,
 "nbformat_minor": 2
}
