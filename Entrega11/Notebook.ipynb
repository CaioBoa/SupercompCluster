{
  "cells": [
    {
      "cell_type": "markdown",
      "metadata": {
        "id": "r_qucRzOKa7r"
      },
      "source": []
    },
    {
      "cell_type": "code",
      "execution_count": 13,
      "metadata": {
        "colab": {
          "base_uri": "https://localhost:8080/"
        },
        "id": "HyrO3buiKY_P",
        "outputId": "f2f4170d-fef2-4584-8ab8-021d5b4e1480"
      },
      "outputs": [
        {
          "name": "stdout",
          "output_type": "stream",
          "text": [
            "Overwriting variancia.cu\n"
          ]
        }
      ],
      "source": [
        "%%writefile variancia.cu\n",
        "#include <iostream>\n",
        "#include <fstream>\n",
        "#include <sstream>\n",
        "#include <string>\n",
        "#include <vector>\n",
        "#include <thrust/host_vector.h>\n",
        "#include <thrust/device_vector.h>\n",
        "#include <thrust/reduce.h>\n",
        "#include <thrust/extrema.h>\n",
        "#include <thrust/transform.h>\n",
        "#include <thrust/iterator/constant_iterator.h>\n",
        "\n",
        "void read_dual_stock_data(const std::string& file_name, thrust::host_vector<float>& aapl, thrust::host_vector<float>& msft) {\n",
        "    std::ifstream file(file_name);\n",
        "    std::string line;\n",
        "\n",
        "    while (std::getline(file, line)) {\n",
        "        std::stringstream ss(line);\n",
        "        std::string apple_str, microsoft_str;\n",
        "\n",
        "        if (std::getline(ss, apple_str, ',') && std::getline(ss, microsoft_str)) {\n",
        "            float apple_price = std::stof(apple_str);\n",
        "            float microsoft_price = std::stof(microsoft_str);\n",
        "            aapl.push_back(apple_price);\n",
        "            msft.push_back(microsoft_price);\n",
        "        }\n",
        "    }\n",
        "}\n",
        "\n",
        "int main() {\n",
        "    thrust::host_vector<float> h_aapl_prices, h_msft_prices;\n",
        "    read_dual_stock_data(\"stocks.txt\", h_aapl_prices, h_msft_prices);\n",
        "\n",
        "    // Transfer data to device\n",
        "    thrust::device_vector<float> d_aapl_prices = h_aapl_prices;\n",
        "    thrust::device_vector<float> d_msft_prices = h_msft_prices;\n",
        "\n",
        "    // Calculate differences between AAPL and MSFT prices\n",
        "    thrust::device_vector<float> d_diff(d_aapl_prices.size());\n",
        "    thrust::transform(d_aapl_prices.begin(), d_aapl_prices.end(), d_msft_prices.begin(), d_diff.begin(), thrust::minus<float>());\n",
        "\n",
        "    // Calculate the mean of differences\n",
        "    float total_diff = thrust::reduce(d_diff.begin(), d_diff.end(), 0.0f);\n",
        "    float average_diff = total_diff / d_diff.size();\n",
        "    std::cout << \"Diferença média entre os preços da Apple e Microsoft: \" << average_diff << std::endl;\n",
        "\n",
        "    // Calculate the variance\n",
        "    thrust::device_vector<float> d_variance(d_diff.size());\n",
        "    thrust::transform(d_diff.begin(), d_diff.end(),\n",
        "                      thrust::constant_iterator<float>(average_diff),\n",
        "                      d_variance.begin(),\n",
        "                      thrust::minus<float>());  // (xi - μ)\n",
        "\n",
        "    thrust::transform(d_variance.begin(), d_variance.end(), d_variance.begin(),\n",
        "                      thrust::square<float>());  // (xi - μ)²\n",
        "\n",
        "    float variance_sum = thrust::reduce(d_variance.begin(), d_variance.end(), 0.0f);\n",
        "    float variance = variance_sum / d_diff.size();\n",
        "    std::cout << \"Variância das diferenças: \" << variance << std::endl;\n",
        "\n",
        "    return 0;\n",
        "}"
      ]
    },
    {
      "cell_type": "code",
      "execution_count": 14,
      "metadata": {
        "id": "he4ORHtSKgKM"
      },
      "outputs": [
        {
          "name": "stdout",
          "output_type": "stream",
          "text": [
            "nvcc fatal   : Cannot find compiler 'cl.exe' in PATH\n"
          ]
        }
      ],
      "source": [
        "!nvcc -arch=sm_75 -std=c++14 variancia.cu -o variancia"
      ]
    },
    {
      "cell_type": "code",
      "execution_count": 15,
      "metadata": {
        "colab": {
          "base_uri": "https://localhost:8080/"
        },
        "id": "P0xk88ZBLsIX",
        "outputId": "0449a1df-90e8-4998-c663-4feed2720a91"
      },
      "outputs": [
        {
          "name": "stderr",
          "output_type": "stream",
          "text": [
            "'.' n�o � reconhecido como um comando interno\n",
            "ou externo, um programa oper�vel ou um arquivo em lotes.\n"
          ]
        }
      ],
      "source": [
        "!./variancia"
      ]
    },
    {
      "cell_type": "code",
      "execution_count": 16,
      "metadata": {
        "colab": {
          "base_uri": "https://localhost:8080/"
        },
        "id": "xtOsTYiWN83G",
        "outputId": "29ab9239-f50a-40fa-f4c9-8d932f8b5eef"
      },
      "outputs": [
        {
          "name": "stdout",
          "output_type": "stream",
          "text": [
            "Overwriting variacaodiaria.cu\n"
          ]
        }
      ],
      "source": [
        "%%writefile variacaodiaria.cu\n",
        "#include <iostream>\n",
        "#include <fstream>\n",
        "#include <sstream>\n",
        "#include <string>\n",
        "#include <vector>\n",
        "#include <thrust/host_vector.h>\n",
        "#include <thrust/device_vector.h>\n",
        "#include <thrust/transform.h>\n",
        "#include <thrust/iterator/counting_iterator.h>\n",
        "\n",
        "// Função para ler os preços de ações do arquivo\n",
        "void read_stock_data(const std::string& file_name, thrust::host_vector<float>& stocks) {\n",
        "    std::ifstream file(file_name);\n",
        "    std::string line;\n",
        "\n",
        "    while (std::getline(file, line)) {\n",
        "        float price = std::stof(line); // Converte a string para float\n",
        "        stocks.push_back(price);       // Armazena no vetor\n",
        "    }\n",
        "}\n",
        "\n",
        "// Functor para calcular a diferença entre dias consecutivos\n",
        "struct daily_gain_functor {\n",
        "    __host__ __device__\n",
        "    float operator()(const float& current, const float& previous) const {\n",
        "        return current - previous;  // Calcula ganho diário\n",
        "    }\n",
        "};\n",
        "\n",
        "int main() {\n",
        "    thrust::host_vector<float> h_stocks;\n",
        "    read_stock_data(\"google.txt\", h_stocks);\n",
        "\n",
        "    size_t total_size = h_stocks.size();\n",
        "    const size_t block_size = 100000; // Processar 100.000 elementos por vez (ajustável)\n",
        "\n",
        "    for (size_t i = 0; i < total_size; i += block_size) {\n",
        "        // Define o tamanho do bloco atual\n",
        "        size_t current_block_size = std::min(block_size, total_size - i);\n",
        "\n",
        "        // Vetores no host para o bloco atual\n",
        "        thrust::host_vector<float> h_stocks_block(h_stocks.begin() + i, h_stocks.begin() + i + current_block_size);\n",
        "\n",
        "        // Transferir o bloco para a GPU\n",
        "        thrust::device_vector<float> d_stocks = h_stocks_block;\n",
        "\n",
        "        if (d_stocks.size() > 1) {\n",
        "            thrust::device_vector<float> d_daily_gain(d_stocks.size() - 1);\n",
        "            thrust::transform(d_stocks.begin() + 1, d_stocks.end(), d_stocks.begin(), d_daily_gain.begin(), daily_gain_functor());\n",
        "\n",
        "            thrust::host_vector<float> h_daily_gain = d_daily_gain;\n",
        "            for (size_t j = 0; j < h_daily_gain.size(); ++j) {\n",
        "                std::cout << h_daily_gain[j] << std::endl;\n",
        "            }\n",
        "        }\n",
        "    }\n",
        "\n",
        "    return 0;\n",
        "}"
      ]
    },
    {
      "cell_type": "code",
      "execution_count": 17,
      "metadata": {
        "id": "QaeOCXAhOCgG"
      },
      "outputs": [
        {
          "name": "stdout",
          "output_type": "stream",
          "text": [
            "nvcc fatal   : Cannot find compiler 'cl.exe' in PATH\n"
          ]
        }
      ],
      "source": [
        "!nvcc -arch=sm_75 -std=c++14 variacaodiaria.cu -o variacaodiaria"
      ]
    },
    {
      "cell_type": "code",
      "execution_count": 18,
      "metadata": {
        "colab": {
          "base_uri": "https://localhost:8080/"
        },
        "id": "EamjNLFQONNN",
        "outputId": "d5c90609-0b78-45ed-bc79-6b334fe8db8d"
      },
      "outputs": [
        {
          "name": "stderr",
          "output_type": "stream",
          "text": [
            "'.' n�o � reconhecido como um comando interno\n",
            "ou externo, um programa oper�vel ou um arquivo em lotes.\n"
          ]
        }
      ],
      "source": [
        "!./variacaodiaria"
      ]
    },
    {
      "cell_type": "code",
      "execution_count": 19,
      "metadata": {
        "colab": {
          "base_uri": "https://localhost:8080/"
        },
        "id": "KRw7L13kFfzc",
        "outputId": "591649d8-285b-4c0f-a224-331fa77aaf1e"
      },
      "outputs": [
        {
          "name": "stdout",
          "output_type": "stream",
          "text": [
            "Overwriting contasubida.cu\n"
          ]
        }
      ],
      "source": [
        "%%writefile contasubida.cu\n",
        "#include <iostream>\n",
        "#include <fstream>\n",
        "#include <sstream>\n",
        "#include <string>\n",
        "#include <vector>\n",
        "#include <thrust/host_vector.h>\n",
        "#include <thrust/device_vector.h>\n",
        "#include <thrust/transform.h>\n",
        "#include <thrust/functional.h>\n",
        "#include <thrust/count.h>\n",
        "\n",
        "// Função para ler os preços de ações do arquivo\n",
        "void read_stock_data(const std::string& file_name, thrust::host_vector<float>& stocks) {\n",
        "    std::ifstream file(file_name);\n",
        "    std::string line;\n",
        "\n",
        "    while (std::getline(file, line)) {\n",
        "        float price = std::stof(line); // Converte a string para float\n",
        "        stocks.push_back(price);       // Armazena no vetor\n",
        "    }\n",
        "}\n",
        "\n",
        "// Functor para calcular a diferença entre dias consecutivos\n",
        "struct daily_gain_functor {\n",
        "    __host__ __device__\n",
        "    float operator()(const float& current, const float& previous) const {\n",
        "        return current - previous;  // Calcula ganho diário\n",
        "    }\n",
        "};\n",
        "\n",
        "// Functor para identificar dias de aumento no preço (diferença positiva)\n",
        "struct is_positive_gain {\n",
        "    __host__ __device__\n",
        "    bool operator()(const float& x) const {\n",
        "        return x > 0.0f;  // Retorna verdadeiro se o ganho for positivo\n",
        "    }\n",
        "};\n",
        "\n",
        "int main() {\n",
        "    thrust::host_vector<float> h_stocks;\n",
        "    read_stock_data(\"google.txt\", h_stocks);\n",
        "\n",
        "    size_t total_size = h_stocks.size();\n",
        "    const size_t block_size = 100000; // Tamanho do bloco a ser processado (ajustável)\n",
        "\n",
        "    int total_positive_gains = 0;\n",
        "\n",
        "    for (size_t i = 0; i < total_size - 1; i += block_size) {\n",
        "        size_t current_block_size = std::min(block_size, total_size - i - 1);\n",
        "\n",
        "        // Bloco atual de dados\n",
        "        thrust::host_vector<float> h_stocks_block(h_stocks.begin() + i, h_stocks.begin() + i + current_block_size + 1);\n",
        "\n",
        "        // Transferir o bloco para a GPU\n",
        "        thrust::device_vector<float> d_stocks = h_stocks_block;\n",
        "\n",
        "        if (d_stocks.size() > 1) {\n",
        "            thrust::device_vector<float> d_daily_gain(d_stocks.size() - 1);\n",
        "            thrust::transform(d_stocks.begin() + 1, d_stocks.end(), d_stocks.begin(), d_daily_gain.begin(), daily_gain_functor());\n",
        "\n",
        "            // Contar quantos dias tiveram aumento no preço nesse bloco\n",
        "            int num_positive_gains = thrust::count_if(d_daily_gain.begin(), d_daily_gain.end(), is_positive_gain());\n",
        "            total_positive_gains += num_positive_gains;\n",
        "        }\n",
        "    }\n",
        "\n",
        "    // Exibir o resultado total\n",
        "    std::cout << \"Número total de dias com aumento no preço: \" << total_positive_gains << std::endl;\n",
        "\n",
        "    return 0;\n",
        "}"
      ]
    },
    {
      "cell_type": "code",
      "execution_count": 20,
      "metadata": {
        "id": "qd5yWqr9GPwE"
      },
      "outputs": [
        {
          "name": "stdout",
          "output_type": "stream",
          "text": [
            "nvcc fatal   : Cannot find compiler 'cl.exe' in PATH\n"
          ]
        }
      ],
      "source": [
        "!nvcc -arch=sm_75 -std=c++14 contasubida.cu -o contasubida"
      ]
    },
    {
      "cell_type": "code",
      "execution_count": 21,
      "metadata": {
        "colab": {
          "base_uri": "https://localhost:8080/"
        },
        "id": "gDjALjhQGYa7",
        "outputId": "8617266b-9475-4880-8258-fde92f60d74a"
      },
      "outputs": [
        {
          "name": "stderr",
          "output_type": "stream",
          "text": [
            "'.' n�o � reconhecido como um comando interno\n",
            "ou externo, um programa oper�vel ou um arquivo em lotes.\n"
          ]
        }
      ],
      "source": [
        "!./contasubida"
      ]
    },
    {
      "cell_type": "code",
      "execution_count": 22,
      "metadata": {
        "colab": {
          "base_uri": "https://localhost:8080/"
        },
        "id": "e__W0oeeI3oM",
        "outputId": "b615fc00-6db7-4b5d-d77e-e70b7c6550ea"
      },
      "outputs": [
        {
          "name": "stdout",
          "output_type": "stream",
          "text": [
            "Overwriting aumentomedio.cu\n"
          ]
        }
      ],
      "source": [
        "%%writefile aumentomedio.cu\n",
        "#include <iostream>\n",
        "#include <fstream>\n",
        "#include <sstream>\n",
        "#include <string>\n",
        "#include <vector>\n",
        "#include <thrust/host_vector.h>\n",
        "#include <thrust/device_vector.h>\n",
        "#include <thrust/transform.h>\n",
        "#include <thrust/functional.h>\n",
        "#include <thrust/count.h>\n",
        "#include <thrust/replace.h>\n",
        "#include <thrust/reduce.h>\n",
        "\n",
        "// Função para ler os preços de ações do arquivo\n",
        "void read_stock_data(const std::string& file_name, thrust::host_vector<float>& stocks) {\n",
        "    std::ifstream file(file_name);\n",
        "    std::string line;\n",
        "\n",
        "    while (std::getline(file, line)) {\n",
        "        float price = std::stof(line); // Converte a string para float\n",
        "        stocks.push_back(price);       // Armazena no vetor\n",
        "    }\n",
        "}\n",
        "\n",
        "// Functor para calcular a diferença entre dias consecutivos\n",
        "struct daily_gain_functor {\n",
        "    __host__ __device__\n",
        "    float operator()(const float& current, const float& previous) const {\n",
        "        return current - previous;  // Calcula ganho diário\n",
        "    }\n",
        "};\n",
        "\n",
        "// Functor para identificar dias de aumento no preço (diferença positiva)\n",
        "struct is_positive_gain {\n",
        "    __host__ __device__\n",
        "    bool operator()(const float& x) const {\n",
        "        return x > 0.0f;  // Retorna verdadeiro se o ganho for positivo\n",
        "    }\n",
        "};\n",
        "\n",
        "// Functor para substituir ganhos negativos por zero\n",
        "struct is_negative_gain {\n",
        "    __host__ __device__\n",
        "    bool operator()(const float& x) const {\n",
        "        return x < 0.0f;  // Retorna verdadeiro se o ganho for negativo\n",
        "    }\n",
        "};\n",
        "\n",
        "int main() {\n",
        "    thrust::host_vector<float> h_stocks;\n",
        "    read_stock_data(\"google.txt\", h_stocks);\n",
        "\n",
        "    size_t total_size = h_stocks.size();\n",
        "    const size_t block_size = 100000; // Tamanho do bloco a ser processado (ajustável)\n",
        "\n",
        "    int total_positive_gains = 0;\n",
        "    float total_sum_positive_gains = 0.0f;\n",
        "\n",
        "    for (size_t i = 0; i < total_size - 1; i += block_size) {\n",
        "        size_t current_block_size = std::min(block_size, total_size - i - 1);\n",
        "\n",
        "        // Bloco atual de dados\n",
        "        thrust::host_vector<float> h_stocks_block(h_stocks.begin() + i, h_stocks.begin() + i + current_block_size + 1);\n",
        "\n",
        "        // Transferir o bloco para a GPU\n",
        "        thrust::device_vector<float> d_stocks = h_stocks_block;\n",
        "\n",
        "        if (d_stocks.size() > 1) {\n",
        "            // Calcular as diferenças diárias\n",
        "            thrust::device_vector<float> d_daily_gain(d_stocks.size() - 1);\n",
        "            thrust::transform(d_stocks.begin() + 1, d_stocks.end(), d_stocks.begin(), d_daily_gain.begin(), daily_gain_functor());\n",
        "\n",
        "            // Contar quantos dias tiveram aumento no preço nesse bloco\n",
        "            int num_positive_gains = thrust::count_if(d_daily_gain.begin(), d_daily_gain.end(), is_positive_gain());\n",
        "            total_positive_gains += num_positive_gains;\n",
        "\n",
        "            // Substituir valores negativos por zero\n",
        "            thrust::replace_if(d_daily_gain.begin(), d_daily_gain.end(), is_negative_gain(), 0.0f);\n",
        "\n",
        "            // Somar os valores restantes (apenas os positivos)\n",
        "            float sum_positive_gains = thrust::reduce(d_daily_gain.begin(), d_daily_gain.end(), 0.0f);\n",
        "            total_sum_positive_gains += sum_positive_gains;\n",
        "        }\n",
        "    }\n",
        "\n",
        "    // Calcular a média dos ganhos positivos\n",
        "    float average_gain = (total_positive_gains > 0) ? total_sum_positive_gains / total_positive_gains : 0.0f;\n",
        "\n",
        "    // Exibir os resultados\n",
        "    std::cout << \"Número total de dias com aumento no preço: \" << total_positive_gains << std::endl;\n",
        "    std::cout << \"Aumento médio nos dias com ganho: \" << average_gain << std::endl;\n",
        "\n",
        "    return 0;\n",
        "}"
      ]
    },
    {
      "cell_type": "code",
      "execution_count": 23,
      "metadata": {
        "id": "8Q8kBCf0I-Mb"
      },
      "outputs": [
        {
          "name": "stdout",
          "output_type": "stream",
          "text": [
            "nvcc fatal   : Cannot find compiler 'cl.exe' in PATH\n"
          ]
        }
      ],
      "source": [
        "!nvcc -arch=sm_75 -std=c++14 aumentomedio.cu -o aumentomedio"
      ]
    },
    {
      "cell_type": "code",
      "execution_count": 24,
      "metadata": {
        "colab": {
          "base_uri": "https://localhost:8080/"
        },
        "id": "Lr8NSUIlJDqc",
        "outputId": "a8eba399-cfba-40b3-8951-9930c0201ff9"
      },
      "outputs": [
        {
          "name": "stderr",
          "output_type": "stream",
          "text": [
            "'.' n�o � reconhecido como um comando interno\n",
            "ou externo, um programa oper�vel ou um arquivo em lotes.\n"
          ]
        }
      ],
      "source": [
        "!./aumentomedio"
      ]
    }
  ],
  "metadata": {
    "accelerator": "GPU",
    "colab": {
      "gpuType": "T4",
      "provenance": []
    },
    "kernelspec": {
      "display_name": "Python 3",
      "name": "python3"
    },
    "language_info": {
      "codemirror_mode": {
        "name": "ipython",
        "version": 3
      },
      "file_extension": ".py",
      "mimetype": "text/x-python",
      "name": "python",
      "nbconvert_exporter": "python",
      "pygments_lexer": "ipython3",
      "version": "3.12.2"
    }
  },
  "nbformat": 4,
  "nbformat_minor": 0
}
